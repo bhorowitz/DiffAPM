{
 "cells": [
  {
   "cell_type": "markdown",
   "metadata": {},
   "source": [
    "adapted from https://github.com/vboussange/lineax/blob/main/docs/examples/preconditioner.ipynb"
   ]
  },
  {
   "cell_type": "code",
   "execution_count": 1,
   "metadata": {},
   "outputs": [],
   "source": [
    "import os\n",
    "\n",
    "#using GPU, comment out if on CPU\n",
    "os.environ['CUDA_DEVICE_ORDER'] = 'PCI_BUS_ID'\n",
    "os.environ['CUDA_VISIBLE_DEVICES'] = '5'\n"
   ]
  },
  {
   "cell_type": "code",
   "execution_count": 2,
   "metadata": {},
   "outputs": [],
   "source": [
    "import jax\n",
    "import jax.numpy as jnp\n",
    "import jax.random as jr\n",
    "from scipy.sparse import diags, kron, eye\n",
    "import jax.experimental.sparse as js\n",
    "import lineax as lx\n",
    "\n",
    "\n",
    "def poisson(n, m):\n",
    "    \"\"\"\n",
    "    Create a 2D Laplacian matrix on an n-by-m grid as a JAX BCOO sparse matrix.\n",
    "    \"\"\"\n",
    "    lap_1d_n = diags([-1, 2, -1], [-1, 0, 1], shape=(n, n), format=\"csr\")\n",
    "    lap_1d_m = diags([-1, 2, -1], [-1, 0, 1], shape=(m, m), format=\"csr\")\n",
    "    lap_2d = kron(eye(m, format=\"csr\"), lap_1d_n) + kron(lap_1d_m, eye(n, format=\"csr\"))\n",
    "    return js.BCOO.from_scipy_sparse(lap_2d)\n"
   ]
  },
  {
   "cell_type": "code",
   "execution_count": 3,
   "metadata": {},
   "outputs": [],
   "source": [
    "\n",
    "\n",
    "# Set up the problem: A x = b\n",
    "n, m = 25, 25\n",
    "rho_n = 1000"
   ]
  },
  {
   "cell_type": "code",
   "execution_count": 4,
   "metadata": {},
   "outputs": [],
   "source": [
    "#gaussian blob...\n",
    "\n",
    "density = jnp.zeros((n,m))\n",
    "density = density.at[int(n/2),int(m/2)].set(rho_n)"
   ]
  },
  {
   "cell_type": "code",
   "execution_count": 5,
   "metadata": {},
   "outputs": [],
   "source": [
    "\n",
    "A = poisson(n, m)\n",
    "key = jr.PRNGKey(0)\n",
    "b = density.flatten()\n",
    "\n",
    "in_structure = jax.eval_shape(lambda: b)"
   ]
  },
  {
   "cell_type": "code",
   "execution_count": 6,
   "metadata": {},
   "outputs": [],
   "source": [
    "import jax\n",
    "import jax.numpy as jnp\n",
    "import lineax as lx\n",
    "from jax.experimental.sparse import BCOO\n",
    "\n",
    "# Define operator and solve with GMRES\n",
    "\n",
    "\n",
    "\n",
    "class SparseMatrixLinearOperator(lx.MatrixLinearOperator):\n",
    "    def mv(self, vector):\n",
    "        return self.matrix @ vector\n",
    "    def transpose(self):\n",
    "        return SparseMatrixLinearOperator(self.matrix.transpose())\n",
    "\n",
    "@lx.is_positive_semidefinite.register(SparseMatrixLinearOperator)\n",
    "def _(op):\n",
    "    return True\n",
    "    \n",
    "operator = SparseMatrixLinearOperator(A)\n",
    "solver = lx.GMRES(atol=1e-5, rtol=1e-5)#, max_steps=100)\n",
    "x = lx.linear_solve(operator, b, solver=solver, throw=False).value"
   ]
  },
  {
   "cell_type": "code",
   "execution_count": 7,
   "metadata": {},
   "outputs": [
    {
     "data": {
      "text/plain": [
       "Array(0.00038905, dtype=float32)"
      ]
     },
     "execution_count": 7,
     "metadata": {},
     "output_type": "execute_result"
    }
   ],
   "source": [
    "# Check the residual norm\n",
    "error = jnp.linalg.norm(b - (A @ x))\n",
    "error"
   ]
  },
  {
   "cell_type": "code",
   "execution_count": 8,
   "metadata": {},
   "outputs": [
    {
     "name": "stdout",
     "output_type": "stream",
     "text": [
      "%pylab is deprecated, use %matplotlib inline and import the required libraries.\n",
      "Populating the interactive namespace from numpy and matplotlib\n"
     ]
    },
    {
     "name": "stderr",
     "output_type": "stream",
     "text": [
      "/home/ben.horowitz/miniconda3/envs/jax-gpu/lib/python3.11/site-packages/IPython/core/magics/pylab.py:162: UserWarning: pylab import has clobbered these variables: ['eye', 'kron', 'poisson']\n",
      "`%matplotlib` prevents importing * from pylab and numpy\n",
      "  warn(\"pylab import has clobbered these variables: %s\"  % clobbered +\n"
     ]
    },
    {
     "data": {
      "text/plain": [
       "<matplotlib.colorbar.Colorbar at 0x7fd00898db90>"
      ]
     },
     "execution_count": 8,
     "metadata": {},
     "output_type": "execute_result"
    },
    {
     "data": {
      "image/png": "[encoded data removed]",
      "text/plain": [
       "<Figure size 640x480 with 2 Axes>"
      ]
     },
     "metadata": {},
     "output_type": "display_data"
    }
   ],
   "source": [
    "%pylab inline\n",
    "imshow(x.reshape(m,n))\n",
    "colorbar()"
   ]
  },
  {
   "cell_type": "code",
   "execution_count": 9,
   "metadata": {},
   "outputs": [],
   "source": [
    "#lets see if derivates work..."
   ]
  },
  {
   "cell_type": "code",
   "execution_count": 10,
   "metadata": {},
   "outputs": [],
   "source": [
    "import equinox\n",
    "\n",
    "@equinox.filter_jit\n",
    "def likelihood(b):\n",
    "    x2 = lx.linear_solve(operator, \n",
    "                    b, \n",
    "                    solver=solver, \n",
    "                    throw=False).value\n",
    "    return jnp.sum(x2**2)"
   ]
  },
  {
   "cell_type": "code",
   "execution_count": 27,
   "metadata": {},
   "outputs": [
    {
     "data": {
      "text/plain": [
       "Array(7913929.5, dtype=float32)"
      ]
     },
     "execution_count": 27,
     "metadata": {},
     "output_type": "execute_result"
    }
   ],
   "source": [
    "likelihood(b)"
   ]
  },
  {
   "cell_type": "code",
   "execution_count": 28,
   "metadata": {},
   "outputs": [],
   "source": [
    "test_grad = jax.grad(likelihood)"
   ]
  },
  {
   "cell_type": "code",
   "execution_count": 29,
   "metadata": {},
   "outputs": [
    {
     "name": "stderr",
     "output_type": "stream",
     "text": [
      "ERROR:2025-03-26 21:53:52,002:jax._src.callback:97: jax.pure_callback failed\n",
      "Traceback (most recent call last):\n",
      "  File \"/home/ben.horowitz/miniconda3/envs/jax-gpu/lib/python3.11/site-packages/jax/_src/callback.py\", line 95, in pure_callback_impl\n",
      "    return tree_util.tree_map(np.asarray, callback(*args))\n",
      "                                          ^^^^^^^^^^^^^^^\n",
      "  File \"/home/ben.horowitz/miniconda3/envs/jax-gpu/lib/python3.11/site-packages/jax/_src/callback.py\", line 72, in __call__\n",
      "    return tree_util.tree_leaves(self.callback_func(*args, **kwargs))\n",
      "                                 ^^^^^^^^^^^^^^^^^^^^^^^^^^^^^^^^^^^\n",
      "  File \"/home/ben.horowitz/miniconda3/envs/jax-gpu/lib/python3.11/site-packages/equinox/_errors.py\", line 89, in raises\n",
      "    raise _EquinoxRuntimeError(\n",
      "equinox._errors._EquinoxRuntimeError: A stagnation in an iterative linear solve has occurred. Try increasing `stagnation_iters` or `restart`.\n",
      "\n",
      "\n",
      "--------------------\n",
      "An error occurred during the runtime of your JAX program! Unfortunately you do not appear to be using `equinox.filter_jit` (perhaps you are using `jax.jit` instead?) and so further information about the error cannot be displayed. (Probably you are seeing a very large but uninformative error message right now.) Please wrap your program with `equinox.filter_jit`.\n",
      "--------------------\n",
      "\n",
      "E0326 21:53:52.006432   40584 pjrt_stream_executor_client.cc:3045] Execution of replica 0 failed: INTERNAL: CustomCall failed: CpuCallback error: Traceback (most recent call last):\n",
      "  File \"<frozen runpy>\", line 198, in _run_module_as_main\n",
      "  File \"<frozen runpy>\", line 88, in _run_code\n",
      "  File \"/home/ben.horowitz/miniconda3/envs/jax-gpu/lib/python3.11/site-packages/ipykernel_launcher.py\", line 18, in <module>\n",
      "  File \"/home/ben.horowitz/miniconda3/envs/jax-gpu/lib/python3.11/site-packages/traitlets/config/application.py\", line 1075, in launch_instance\n",
      "  File \"/home/ben.horowitz/miniconda3/envs/jax-gpu/lib/python3.11/site-packages/ipykernel/kernelapp.py\", line 739, in start\n",
      "  File \"/home/ben.horowitz/miniconda3/envs/jax-gpu/lib/python3.11/site-packages/tornado/platform/asyncio.py\", line 205, in start\n",
      "  File \"/home/ben.horowitz/miniconda3/envs/jax-gpu/lib/python3.11/asyncio/base_events.py\", line 608, in run_forever\n",
      "  File \"/home/ben.horowitz/miniconda3/envs/jax-gpu/lib/python3.11/asyncio/base_events.py\", line 1936, in _run_once\n",
      "  File \"/home/ben.horowitz/miniconda3/envs/jax-gpu/lib/python3.11/asyncio/events.py\", line 84, in _run\n",
      "  File \"/home/ben.horowitz/miniconda3/envs/jax-gpu/lib/python3.11/site-packages/ipykernel/kernelbase.py\", line 545, in dispatch_queue\n",
      "  File \"/home/ben.horowitz/miniconda3/envs/jax-gpu/lib/python3.11/site-packages/ipykernel/kernelbase.py\", line 534, in process_one\n",
      "  File \"/home/ben.horowitz/miniconda3/envs/jax-gpu/lib/python3.11/site-packages/ipykernel/kernelbase.py\", line 437, in dispatch_shell\n",
      "  File \"/home/ben.horowitz/miniconda3/envs/jax-gpu/lib/python3.11/site-packages/ipykernel/ipkernel.py\", line 362, in execute_request\n",
      "  File \"/home/ben.horowitz/miniconda3/envs/jax-gpu/lib/python3.11/site-packages/ipykernel/kernelbase.py\", line 778, in execute_request\n",
      "  File \"/home/ben.horowitz/miniconda3/envs/jax-gpu/lib/python3.11/site-packages/ipykernel/ipkernel.py\", line 449, in do_execute\n",
      "  File \"/home/ben.horowitz/miniconda3/envs/jax-gpu/lib/python3.11/site-packages/ipykernel/zmqshell.py\", line 549, in run_cell\n",
      "  File \"/home/ben.horowitz/miniconda3/envs/jax-gpu/lib/python3.11/site-packages/IPython/core/interactiveshell.py\", line 3006, in run_cell\n",
      "  File \"/home/ben.horowitz/miniconda3/envs/jax-gpu/lib/python3.11/site-packages/IPython/core/interactiveshell.py\", line 3061, in _run_cell\n",
      "  File \"/home/ben.horowitz/miniconda3/envs/jax-gpu/lib/python3.11/site-packages/IPython/core/async_helpers.py\", line 129, in _pseudo_sync_runner\n",
      "  File \"/home/ben.horowitz/miniconda3/envs/jax-gpu/lib/python3.11/site-packages/IPython/core/interactiveshell.py\", line 3266, in run_cell_async\n",
      "  File \"/home/ben.horowitz/miniconda3/envs/jax-gpu/lib/python3.11/site-packages/IPython/core/interactiveshell.py\", line 3445, in run_ast_nodes\n",
      "  File \"/home/ben.horowitz/miniconda3/envs/jax-gpu/lib/python3.11/site-packages/IPython/core/interactiveshell.py\", line 3505, in run_code\n",
      "  File \"/tmp/ipykernel_40584/3600491937.py\", line 1, in <module>\n",
      "  File \"/home/ben.horowitz/miniconda3/envs/jax-gpu/lib/python3.11/site-packages/jax/_src/traceback_util.py\", line 180, in reraise_with_filtered_traceback\n",
      "  File \"/home/ben.horowitz/miniconda3/envs/jax-gpu/lib/python3.11/site-packages/jax/_src/api.py\", line 394, in grad_f\n",
      "  File \"/home/ben.horowitz/miniconda3/envs/jax-gpu/lib/python3.11/site-packages/jax/_src/traceback_util.py\", line 180, in reraise_with_filtered_traceback\n",
      "  File \"/home/ben.horowitz/miniconda3/envs/jax-gpu/lib/python3.11/site-packages/jax/_src/api.py\", line 474, in value_and_grad_f\n",
      "  File \"/home/ben.horowitz/miniconda3/envs/jax-gpu/lib/python3.11/site-packages/jax/_src/tree_util.py\", line 476, in __call__\n",
      "  File \"/home/ben.horowitz/miniconda3/envs/jax-gpu/lib/python3.11/site-packages/jax/_src/api.py\", line 1899, in _vjp_pullback_wrapper\n",
      "  File \"/home/ben.horowitz/miniconda3/envs/jax-gpu/lib/python3.11/site-packages/jax/_src/tree_util.py\", line 476, in __call__\n",
      "  File \"/home/ben.horowitz/miniconda3/envs/jax-gpu/lib/python3.11/site-packages/jax/_src/interpreters/ad.py\", line 259, in unbound_vjp\n",
      "  File \"/home/ben.horowitz/miniconda3/envs/jax-gpu/lib/python3.11/site-packages/jax/_src/interpreters/ad.py\", line 360, in backward_pass\n",
      "  File \"/home/ben.horowitz/miniconda3/envs/jax-gpu/lib/python3.11/site-packages/jax/_src/pjit.py\", line 2378, in _pjit_transpose\n",
      "  File \"/home/ben.horowitz/miniconda3/envs/jax-gpu/lib/python3.11/site-packages/jax/_src/core.py\", line 463, in bind\n",
      "  File \"/home/ben.horowitz/miniconda3/envs/jax-gpu/lib/python3.11/site-packages/jax/_src/core.py\", line 468, in bind_with_trace\n",
      "  File \"/home/ben.horowitz/miniconda3/envs/jax-gpu/lib/python3.11/site-packages/jax/_src/core.py\", line 954, in process_primitive\n",
      "  File \"/home/ben.horowitz/miniconda3/envs/jax-gpu/lib/python3.11/site-packages/jax/_src/pjit.py\", line 1762, in _pjit_call_impl\n",
      "  File \"/home/ben.horowitz/miniconda3/envs/jax-gpu/lib/python3.11/site-packages/jax/_src/pjit.py\", line 1738, in call_impl_cache_miss\n",
      "  File \"/home/ben.horowitz/miniconda3/envs/jax-gpu/lib/python3.11/site-packages/jax/_src/pjit.py\", line 1692, in _pjit_call_impl_python\n",
      "  File \"/home/ben.horowitz/miniconda3/envs/jax-gpu/lib/python3.11/site-packages/jax/_src/profiler.py\", line 333, in wrapper\n",
      "  File \"/home/ben.horowitz/miniconda3/envs/jax-gpu/lib/python3.11/site-packages/jax/_src/interpreters/pxla.py\", line 1289, in __call__\n",
      "  File \"/home/ben.horowitz/miniconda3/envs/jax-gpu/lib/python3.11/site-packages/jax/_src/interpreters/mlir.py\", line 2960, in _wrapped_callback\n",
      "  File \"/home/ben.horowitz/miniconda3/envs/jax-gpu/lib/python3.11/site-packages/jax/_src/callback.py\", line 306, in _callback\n",
      "  File \"/home/ben.horowitz/miniconda3/envs/jax-gpu/lib/python3.11/site-packages/jax/_src/callback.py\", line 98, in pure_callback_impl\n",
      "  File \"/home/ben.horowitz/miniconda3/envs/jax-gpu/lib/python3.11/site-packages/jax/_src/callback.py\", line 72, in __call__\n",
      "  File \"/home/ben.horowitz/miniconda3/envs/jax-gpu/lib/python3.11/site-packages/equinox/_errors.py\", line 89, in raises\n",
      "_EquinoxRuntimeError: A stagnation in an iterative linear solve has occurred. Try increasing `stagnation_iters` or `restart`.\n",
      "\n",
      "\n",
      "--------------------\n",
      "An error occurred during the runtime of your JAX program! Unfortunately you do not appear to be using `equinox.filter_jit` (perhaps you are using `jax.jit` instead?) and so further information about the error cannot be displayed. (Probably you are seeing a very large but uninformative error message right now.) Please wrap your program with `equinox.filter_jit`.\n",
      "--------------------\n",
      "\n"
     ]
    },
    {
     "ename": "XlaRuntimeError",
     "evalue": "INTERNAL: CustomCall failed: CpuCallback error: Traceback (most recent call last):\n  File \"<frozen runpy>\", line 198, in _run_module_as_main\n  File \"<frozen runpy>\", line 88, in _run_code\n  File \"/home/ben.horowitz/miniconda3/envs/jax-gpu/lib/python3.11/site-packages/ipykernel_launcher.py\", line 18, in <module>\n  File \"/home/ben.horowitz/miniconda3/envs/jax-gpu/lib/python3.11/site-packages/traitlets/config/application.py\", line 1075, in launch_instance\n  File \"/home/ben.horowitz/miniconda3/envs/jax-gpu/lib/python3.11/site-packages/ipykernel/kernelapp.py\", line 739, in start\n  File \"/home/ben.horowitz/miniconda3/envs/jax-gpu/lib/python3.11/site-packages/tornado/platform/asyncio.py\", line 205, in start\n  File \"/home/ben.horowitz/miniconda3/envs/jax-gpu/lib/python3.11/asyncio/base_events.py\", line 608, in run_forever\n  File \"/home/ben.horowitz/miniconda3/envs/jax-gpu/lib/python3.11/asyncio/base_events.py\", line 1936, in _run_once\n  File \"/home/ben.horowitz/miniconda3/envs/jax-gpu/lib/python3.11/asyncio/events.py\", line 84, in _run\n  File \"/home/ben.horowitz/miniconda3/envs/jax-gpu/lib/python3.11/site-packages/ipykernel/kernelbase.py\", line 545, in dispatch_queue\n  File \"/home/ben.horowitz/miniconda3/envs/jax-gpu/lib/python3.11/site-packages/ipykernel/kernelbase.py\", line 534, in process_one\n  File \"/home/ben.horowitz/miniconda3/envs/jax-gpu/lib/python3.11/site-packages/ipykernel/kernelbase.py\", line 437, in dispatch_shell\n  File \"/home/ben.horowitz/miniconda3/envs/jax-gpu/lib/python3.11/site-packages/ipykernel/ipkernel.py\", line 362, in execute_request\n  File \"/home/ben.horowitz/miniconda3/envs/jax-gpu/lib/python3.11/site-packages/ipykernel/kernelbase.py\", line 778, in execute_request\n  File \"/home/ben.horowitz/miniconda3/envs/jax-gpu/lib/python3.11/site-packages/ipykernel/ipkernel.py\", line 449, in do_execute\n  File \"/home/ben.horowitz/miniconda3/envs/jax-gpu/lib/python3.11/site-packages/ipykernel/zmqshell.py\", line 549, in run_cell\n  File \"/home/ben.horowitz/miniconda3/envs/jax-gpu/lib/python3.11/site-packages/IPython/core/interactiveshell.py\", line 3006, in run_cell\n  File \"/home/ben.horowitz/miniconda3/envs/jax-gpu/lib/python3.11/site-packages/IPython/core/interactiveshell.py\", line 3061, in _run_cell\n  File \"/home/ben.horowitz/miniconda3/envs/jax-gpu/lib/python3.11/site-packages/IPython/core/async_helpers.py\", line 129, in _pseudo_sync_runner\n  File \"/home/ben.horowitz/miniconda3/envs/jax-gpu/lib/python3.11/site-packages/IPython/core/interactiveshell.py\", line 3266, in run_cell_async\n  File \"/home/ben.horowitz/miniconda3/envs/jax-gpu/lib/python3.11/site-packages/IPython/core/interactiveshell.py\", line 3445, in run_ast_nodes\n  File \"/home/ben.horowitz/miniconda3/envs/jax-gpu/lib/python3.11/site-packages/IPython/core/interactiveshell.py\", line 3505, in run_code\n  File \"/tmp/ipykernel_40584/3600491937.py\", line 1, in <module>\n  File \"/home/ben.horowitz/miniconda3/envs/jax-gpu/lib/python3.11/site-packages/jax/_src/traceback_util.py\", line 180, in reraise_with_filtered_traceback\n  File \"/home/ben.horowitz/miniconda3/envs/jax-gpu/lib/python3.11/site-packages/jax/_src/api.py\", line 394, in grad_f\n  File \"/home/ben.horowitz/miniconda3/envs/jax-gpu/lib/python3.11/site-packages/jax/_src/traceback_util.py\", line 180, in reraise_with_filtered_traceback\n  File \"/home/ben.horowitz/miniconda3/envs/jax-gpu/lib/python3.11/site-packages/jax/_src/api.py\", line 474, in value_and_grad_f\n  File \"/home/ben.horowitz/miniconda3/envs/jax-gpu/lib/python3.11/site-packages/jax/_src/tree_util.py\", line 476, in __call__\n  File \"/home/ben.horowitz/miniconda3/envs/jax-gpu/lib/python3.11/site-packages/jax/_src/api.py\", line 1899, in _vjp_pullback_wrapper\n  File \"/home/ben.horowitz/miniconda3/envs/jax-gpu/lib/python3.11/site-packages/jax/_src/tree_util.py\", line 476, in __call__\n  File \"/home/ben.horowitz/miniconda3/envs/jax-gpu/lib/python3.11/site-packages/jax/_src/interpreters/ad.py\", line 259, in unbound_vjp\n  File \"/home/ben.horowitz/miniconda3/envs/jax-gpu/lib/python3.11/site-packages/jax/_src/interpreters/ad.py\", line 360, in backward_pass\n  File \"/home/ben.horowitz/miniconda3/envs/jax-gpu/lib/python3.11/site-packages/jax/_src/pjit.py\", line 2378, in _pjit_transpose\n  File \"/home/ben.horowitz/miniconda3/envs/jax-gpu/lib/python3.11/site-packages/jax/_src/core.py\", line 463, in bind\n  File \"/home/ben.horowitz/miniconda3/envs/jax-gpu/lib/python3.11/site-packages/jax/_src/core.py\", line 468, in bind_with_trace\n  File \"/home/ben.horowitz/miniconda3/envs/jax-gpu/lib/python3.11/site-packages/jax/_src/core.py\", line 954, in process_primitive\n  File \"/home/ben.horowitz/miniconda3/envs/jax-gpu/lib/python3.11/site-packages/jax/_src/pjit.py\", line 1762, in _pjit_call_impl\n  File \"/home/ben.horowitz/miniconda3/envs/jax-gpu/lib/python3.11/site-packages/jax/_src/pjit.py\", line 1738, in call_impl_cache_miss\n  File \"/home/ben.horowitz/miniconda3/envs/jax-gpu/lib/python3.11/site-packages/jax/_src/pjit.py\", line 1692, in _pjit_call_impl_python\n  File \"/home/ben.horowitz/miniconda3/envs/jax-gpu/lib/python3.11/site-packages/jax/_src/profiler.py\", line 333, in wrapper\n  File \"/home/ben.horowitz/miniconda3/envs/jax-gpu/lib/python3.11/site-packages/jax/_src/interpreters/pxla.py\", line 1289, in __call__\n  File \"/home/ben.horowitz/miniconda3/envs/jax-gpu/lib/python3.11/site-packages/jax/_src/interpreters/mlir.py\", line 2960, in _wrapped_callback\n  File \"/home/ben.horowitz/miniconda3/envs/jax-gpu/lib/python3.11/site-packages/jax/_src/callback.py\", line 306, in _callback\n  File \"/home/ben.horowitz/miniconda3/envs/jax-gpu/lib/python3.11/site-packages/jax/_src/callback.py\", line 98, in pure_callback_impl\n  File \"/home/ben.horowitz/miniconda3/envs/jax-gpu/lib/python3.11/site-packages/jax/_src/callback.py\", line 72, in __call__\n  File \"/home/ben.horowitz/miniconda3/envs/jax-gpu/lib/python3.11/site-packages/equinox/_errors.py\", line 89, in raises\n_EquinoxRuntimeError: A stagnation in an iterative linear solve has occurred. Try increasing `stagnation_iters` or `restart`.\n\n\n--------------------\nAn error occurred during the runtime of your JAX program! Unfortunately you do not appear to be using `equinox.filter_jit` (perhaps you are using `jax.jit` instead?) and so further information about the error cannot be displayed. (Probably you are seeing a very large but uninformative error message right now.) Please wrap your program with `equinox.filter_jit`.\n--------------------\n",
     "output_type": "error",
     "traceback": [
      "\u001b[0;31m---------------------------------------------------------------------------\u001b[0m",
      "\u001b[0;31mJaxStackTraceBeforeTransformation\u001b[0m         Traceback (most recent call last)",
      "File \u001b[0;32m<frozen runpy>:198\u001b[0m, in \u001b[0;36m_run_module_as_main\u001b[0;34m()\u001b[0m\n",
      "File \u001b[0;32m<frozen runpy>:88\u001b[0m, in \u001b[0;36m_run_code\u001b[0;34m()\u001b[0m\n",
      "File \u001b[0;32m~/miniconda3/envs/jax-gpu/lib/python3.11/site-packages/ipykernel_launcher.py:18\u001b[0m\n\u001b[1;32m     16\u001b[0m \u001b[38;5;28;01mfrom\u001b[39;00m\u001b[38;5;250m \u001b[39m\u001b[38;5;21;01mipykernel\u001b[39;00m\u001b[38;5;250m \u001b[39m\u001b[38;5;28;01mimport\u001b[39;00m kernelapp \u001b[38;5;28;01mas\u001b[39;00m app\n\u001b[0;32m---> 18\u001b[0m app\u001b[38;5;241m.\u001b[39mlaunch_new_instance()\n",
      "File \u001b[0;32m~/miniconda3/envs/jax-gpu/lib/python3.11/site-packages/traitlets/config/application.py:1075\u001b[0m, in \u001b[0;36mlaunch_instance\u001b[0;34m()\u001b[0m\n\u001b[1;32m   1074\u001b[0m app\u001b[38;5;241m.\u001b[39minitialize(argv)\n\u001b[0;32m-> 1075\u001b[0m app\u001b[38;5;241m.\u001b[39mstart()\n",
      "File \u001b[0;32m~/miniconda3/envs/jax-gpu/lib/python3.11/site-packages/ipykernel/kernelapp.py:739\u001b[0m, in \u001b[0;36mstart\u001b[0;34m()\u001b[0m\n\u001b[1;32m    738\u001b[0m \u001b[38;5;28;01mtry\u001b[39;00m:\n\u001b[0;32m--> 739\u001b[0m     \u001b[38;5;28mself\u001b[39m\u001b[38;5;241m.\u001b[39mio_loop\u001b[38;5;241m.\u001b[39mstart()\n\u001b[1;32m    740\u001b[0m \u001b[38;5;28;01mexcept\u001b[39;00m \u001b[38;5;167;01mKeyboardInterrupt\u001b[39;00m:\n",
      "File \u001b[0;32m~/miniconda3/envs/jax-gpu/lib/python3.11/site-packages/tornado/platform/asyncio.py:205\u001b[0m, in \u001b[0;36mstart\u001b[0;34m()\u001b[0m\n\u001b[1;32m    204\u001b[0m \u001b[38;5;28;01mdef\u001b[39;00m\u001b[38;5;250m \u001b[39m\u001b[38;5;21mstart\u001b[39m(\u001b[38;5;28mself\u001b[39m) \u001b[38;5;241m-\u001b[39m\u001b[38;5;241m>\u001b[39m \u001b[38;5;28;01mNone\u001b[39;00m:\n\u001b[0;32m--> 205\u001b[0m     \u001b[38;5;28mself\u001b[39m\u001b[38;5;241m.\u001b[39masyncio_loop\u001b[38;5;241m.\u001b[39mrun_forever()\n",
      "File \u001b[0;32m~/miniconda3/envs/jax-gpu/lib/python3.11/asyncio/base_events.py:608\u001b[0m, in \u001b[0;36mrun_forever\u001b[0;34m()\u001b[0m\n\u001b[1;32m    607\u001b[0m \u001b[38;5;28;01mwhile\u001b[39;00m \u001b[38;5;28;01mTrue\u001b[39;00m:\n\u001b[0;32m--> 608\u001b[0m     \u001b[38;5;28mself\u001b[39m\u001b[38;5;241m.\u001b[39m_run_once()\n\u001b[1;32m    609\u001b[0m     \u001b[38;5;28;01mif\u001b[39;00m \u001b[38;5;28mself\u001b[39m\u001b[38;5;241m.\u001b[39m_stopping:\n",
      "File \u001b[0;32m~/miniconda3/envs/jax-gpu/lib/python3.11/asyncio/base_events.py:1936\u001b[0m, in \u001b[0;36m_run_once\u001b[0;34m()\u001b[0m\n\u001b[1;32m   1935\u001b[0m     \u001b[38;5;28;01melse\u001b[39;00m:\n\u001b[0;32m-> 1936\u001b[0m         handle\u001b[38;5;241m.\u001b[39m_run()\n\u001b[1;32m   1937\u001b[0m handle \u001b[38;5;241m=\u001b[39m \u001b[38;5;28;01mNone\u001b[39;00m\n",
      "File \u001b[0;32m~/miniconda3/envs/jax-gpu/lib/python3.11/asyncio/events.py:84\u001b[0m, in \u001b[0;36m_run\u001b[0;34m()\u001b[0m\n\u001b[1;32m     83\u001b[0m \u001b[38;5;28;01mtry\u001b[39;00m:\n\u001b[0;32m---> 84\u001b[0m     \u001b[38;5;28mself\u001b[39m\u001b[38;5;241m.\u001b[39m_context\u001b[38;5;241m.\u001b[39mrun(\u001b[38;5;28mself\u001b[39m\u001b[38;5;241m.\u001b[39m_callback, \u001b[38;5;241m*\u001b[39m\u001b[38;5;28mself\u001b[39m\u001b[38;5;241m.\u001b[39m_args)\n\u001b[1;32m     85\u001b[0m \u001b[38;5;28;01mexcept\u001b[39;00m (\u001b[38;5;167;01mSystemExit\u001b[39;00m, \u001b[38;5;167;01mKeyboardInterrupt\u001b[39;00m):\n",
      "File \u001b[0;32m~/miniconda3/envs/jax-gpu/lib/python3.11/site-packages/ipykernel/kernelbase.py:545\u001b[0m, in \u001b[0;36mdispatch_queue\u001b[0;34m()\u001b[0m\n\u001b[1;32m    544\u001b[0m \u001b[38;5;28;01mtry\u001b[39;00m:\n\u001b[0;32m--> 545\u001b[0m     \u001b[38;5;28;01mawait\u001b[39;00m \u001b[38;5;28mself\u001b[39m\u001b[38;5;241m.\u001b[39mprocess_one()\n\u001b[1;32m    546\u001b[0m \u001b[38;5;28;01mexcept\u001b[39;00m \u001b[38;5;167;01mException\u001b[39;00m:\n",
      "File \u001b[0;32m~/miniconda3/envs/jax-gpu/lib/python3.11/site-packages/ipykernel/kernelbase.py:534\u001b[0m, in \u001b[0;36mprocess_one\u001b[0;34m()\u001b[0m\n\u001b[1;32m    533\u001b[0m         \u001b[38;5;28;01mreturn\u001b[39;00m\n\u001b[0;32m--> 534\u001b[0m \u001b[38;5;28;01mawait\u001b[39;00m dispatch(\u001b[38;5;241m*\u001b[39margs)\n",
      "File \u001b[0;32m~/miniconda3/envs/jax-gpu/lib/python3.11/site-packages/ipykernel/kernelbase.py:437\u001b[0m, in \u001b[0;36mdispatch_shell\u001b[0;34m()\u001b[0m\n\u001b[1;32m    436\u001b[0m     \u001b[38;5;28;01mif\u001b[39;00m inspect\u001b[38;5;241m.\u001b[39misawaitable(result):\n\u001b[0;32m--> 437\u001b[0m         \u001b[38;5;28;01mawait\u001b[39;00m result\n\u001b[1;32m    438\u001b[0m \u001b[38;5;28;01mexcept\u001b[39;00m \u001b[38;5;167;01mException\u001b[39;00m:\n",
      "File \u001b[0;32m~/miniconda3/envs/jax-gpu/lib/python3.11/site-packages/ipykernel/ipkernel.py:362\u001b[0m, in \u001b[0;36mexecute_request\u001b[0;34m()\u001b[0m\n\u001b[1;32m    361\u001b[0m \u001b[38;5;28mself\u001b[39m\u001b[38;5;241m.\u001b[39m_associate_new_top_level_threads_with(parent_header)\n\u001b[0;32m--> 362\u001b[0m \u001b[38;5;28;01mawait\u001b[39;00m \u001b[38;5;28msuper\u001b[39m()\u001b[38;5;241m.\u001b[39mexecute_request(stream, ident, parent)\n",
      "File \u001b[0;32m~/miniconda3/envs/jax-gpu/lib/python3.11/site-packages/ipykernel/kernelbase.py:778\u001b[0m, in \u001b[0;36mexecute_request\u001b[0;34m()\u001b[0m\n\u001b[1;32m    777\u001b[0m \u001b[38;5;28;01mif\u001b[39;00m inspect\u001b[38;5;241m.\u001b[39misawaitable(reply_content):\n\u001b[0;32m--> 778\u001b[0m     reply_content \u001b[38;5;241m=\u001b[39m \u001b[38;5;28;01mawait\u001b[39;00m reply_content\n\u001b[1;32m    780\u001b[0m \u001b[38;5;66;03m# Flush output before sending the reply.\u001b[39;00m\n",
      "File \u001b[0;32m~/miniconda3/envs/jax-gpu/lib/python3.11/site-packages/ipykernel/ipkernel.py:449\u001b[0m, in \u001b[0;36mdo_execute\u001b[0;34m()\u001b[0m\n\u001b[1;32m    448\u001b[0m \u001b[38;5;28;01mif\u001b[39;00m accepts_params[\u001b[38;5;124m\"\u001b[39m\u001b[38;5;124mcell_id\u001b[39m\u001b[38;5;124m\"\u001b[39m]:\n\u001b[0;32m--> 449\u001b[0m     res \u001b[38;5;241m=\u001b[39m shell\u001b[38;5;241m.\u001b[39mrun_cell(\n\u001b[1;32m    450\u001b[0m         code,\n\u001b[1;32m    451\u001b[0m         store_history\u001b[38;5;241m=\u001b[39mstore_history,\n\u001b[1;32m    452\u001b[0m         silent\u001b[38;5;241m=\u001b[39msilent,\n\u001b[1;32m    453\u001b[0m         cell_id\u001b[38;5;241m=\u001b[39mcell_id,\n\u001b[1;32m    454\u001b[0m     )\n\u001b[1;32m    455\u001b[0m \u001b[38;5;28;01melse\u001b[39;00m:\n",
      "File \u001b[0;32m~/miniconda3/envs/jax-gpu/lib/python3.11/site-packages/ipykernel/zmqshell.py:549\u001b[0m, in \u001b[0;36mrun_cell\u001b[0;34m()\u001b[0m\n\u001b[1;32m    548\u001b[0m \u001b[38;5;28mself\u001b[39m\u001b[38;5;241m.\u001b[39m_last_traceback \u001b[38;5;241m=\u001b[39m \u001b[38;5;28;01mNone\u001b[39;00m\n\u001b[0;32m--> 549\u001b[0m \u001b[38;5;28;01mreturn\u001b[39;00m \u001b[38;5;28msuper\u001b[39m()\u001b[38;5;241m.\u001b[39mrun_cell(\u001b[38;5;241m*\u001b[39margs, \u001b[38;5;241m*\u001b[39m\u001b[38;5;241m*\u001b[39mkwargs)\n",
      "File \u001b[0;32m~/miniconda3/envs/jax-gpu/lib/python3.11/site-packages/IPython/core/interactiveshell.py:3006\u001b[0m, in \u001b[0;36mrun_cell\u001b[0;34m()\u001b[0m\n\u001b[1;32m   3005\u001b[0m \u001b[38;5;28;01mtry\u001b[39;00m:\n\u001b[0;32m-> 3006\u001b[0m     result \u001b[38;5;241m=\u001b[39m \u001b[38;5;28mself\u001b[39m\u001b[38;5;241m.\u001b[39m_run_cell(\n\u001b[1;32m   3007\u001b[0m         raw_cell, store_history, silent, shell_futures, cell_id\n\u001b[1;32m   3008\u001b[0m     )\n\u001b[1;32m   3009\u001b[0m \u001b[38;5;28;01mfinally\u001b[39;00m:\n",
      "File \u001b[0;32m~/miniconda3/envs/jax-gpu/lib/python3.11/site-packages/IPython/core/interactiveshell.py:3061\u001b[0m, in \u001b[0;36m_run_cell\u001b[0;34m()\u001b[0m\n\u001b[1;32m   3060\u001b[0m \u001b[38;5;28;01mtry\u001b[39;00m:\n\u001b[0;32m-> 3061\u001b[0m     result \u001b[38;5;241m=\u001b[39m runner(coro)\n\u001b[1;32m   3062\u001b[0m \u001b[38;5;28;01mexcept\u001b[39;00m \u001b[38;5;167;01mBaseException\u001b[39;00m \u001b[38;5;28;01mas\u001b[39;00m e:\n",
      "File \u001b[0;32m~/miniconda3/envs/jax-gpu/lib/python3.11/site-packages/IPython/core/async_helpers.py:129\u001b[0m, in \u001b[0;36m_pseudo_sync_runner\u001b[0;34m()\u001b[0m\n\u001b[1;32m    128\u001b[0m \u001b[38;5;28;01mtry\u001b[39;00m:\n\u001b[0;32m--> 129\u001b[0m     coro\u001b[38;5;241m.\u001b[39msend(\u001b[38;5;28;01mNone\u001b[39;00m)\n\u001b[1;32m    130\u001b[0m \u001b[38;5;28;01mexcept\u001b[39;00m \u001b[38;5;167;01mStopIteration\u001b[39;00m \u001b[38;5;28;01mas\u001b[39;00m exc:\n",
      "File \u001b[0;32m~/miniconda3/envs/jax-gpu/lib/python3.11/site-packages/IPython/core/interactiveshell.py:3266\u001b[0m, in \u001b[0;36mrun_cell_async\u001b[0;34m()\u001b[0m\n\u001b[1;32m   3263\u001b[0m interactivity \u001b[38;5;241m=\u001b[39m \u001b[38;5;124m\"\u001b[39m\u001b[38;5;124mnone\u001b[39m\u001b[38;5;124m\"\u001b[39m \u001b[38;5;28;01mif\u001b[39;00m silent \u001b[38;5;28;01melse\u001b[39;00m \u001b[38;5;28mself\u001b[39m\u001b[38;5;241m.\u001b[39mast_node_interactivity\n\u001b[0;32m-> 3266\u001b[0m has_raised \u001b[38;5;241m=\u001b[39m \u001b[38;5;28;01mawait\u001b[39;00m \u001b[38;5;28mself\u001b[39m\u001b[38;5;241m.\u001b[39mrun_ast_nodes(code_ast\u001b[38;5;241m.\u001b[39mbody, cell_name,\n\u001b[1;32m   3267\u001b[0m        interactivity\u001b[38;5;241m=\u001b[39minteractivity, compiler\u001b[38;5;241m=\u001b[39mcompiler, result\u001b[38;5;241m=\u001b[39mresult)\n\u001b[1;32m   3269\u001b[0m \u001b[38;5;28mself\u001b[39m\u001b[38;5;241m.\u001b[39mlast_execution_succeeded \u001b[38;5;241m=\u001b[39m \u001b[38;5;129;01mnot\u001b[39;00m has_raised\n",
      "File \u001b[0;32m~/miniconda3/envs/jax-gpu/lib/python3.11/site-packages/IPython/core/interactiveshell.py:3445\u001b[0m, in \u001b[0;36mrun_ast_nodes\u001b[0;34m()\u001b[0m\n\u001b[1;32m   3444\u001b[0m     asy \u001b[38;5;241m=\u001b[39m compare(code)\n\u001b[0;32m-> 3445\u001b[0m \u001b[38;5;28;01mif\u001b[39;00m \u001b[38;5;28;01mawait\u001b[39;00m \u001b[38;5;28mself\u001b[39m\u001b[38;5;241m.\u001b[39mrun_code(code, result, async_\u001b[38;5;241m=\u001b[39masy):\n\u001b[1;32m   3446\u001b[0m     \u001b[38;5;28;01mreturn\u001b[39;00m \u001b[38;5;28;01mTrue\u001b[39;00m\n",
      "File \u001b[0;32m~/miniconda3/envs/jax-gpu/lib/python3.11/site-packages/IPython/core/interactiveshell.py:3505\u001b[0m, in \u001b[0;36mrun_code\u001b[0;34m()\u001b[0m\n\u001b[1;32m   3504\u001b[0m     \u001b[38;5;28;01melse\u001b[39;00m:\n\u001b[0;32m-> 3505\u001b[0m         exec(code_obj, \u001b[38;5;28mself\u001b[39m\u001b[38;5;241m.\u001b[39muser_global_ns, \u001b[38;5;28mself\u001b[39m\u001b[38;5;241m.\u001b[39muser_ns)\n\u001b[1;32m   3506\u001b[0m \u001b[38;5;28;01mfinally\u001b[39;00m:\n\u001b[1;32m   3507\u001b[0m     \u001b[38;5;66;03m# Reset our crash handler in place\u001b[39;00m\n",
      "Cell \u001b[0;32mIn[29], line 1\u001b[0m\n\u001b[0;32m----> 1\u001b[0m test_grad(b)\n",
      "\u001b[0;31mJaxStackTraceBeforeTransformation\u001b[0m: jaxlib.xla_extension.XlaRuntimeError: INTERNAL: CustomCall failed: CpuCallback error: Traceback (most recent call last):\n  File \"<frozen runpy>\", line 198, in _run_module_as_main\n  File \"<frozen runpy>\", line 88, in _run_code\n  File \"/home/ben.horowitz/miniconda3/envs/jax-gpu/lib/python3.11/site-packages/ipykernel_launcher.py\", line 18, in <module>\n  File \"/home/ben.horowitz/miniconda3/envs/jax-gpu/lib/python3.11/site-packages/traitlets/config/application.py\", line 1075, in launch_instance\n  File \"/home/ben.horowitz/miniconda3/envs/jax-gpu/lib/python3.11/site-packages/ipykernel/kernelapp.py\", line 739, in start\n  File \"/home/ben.horowitz/miniconda3/envs/jax-gpu/lib/python3.11/site-packages/tornado/platform/asyncio.py\", line 205, in start\n  File \"/home/ben.horowitz/miniconda3/envs/jax-gpu/lib/python3.11/asyncio/base_events.py\", line 608, in run_forever\n  File \"/home/ben.horowitz/miniconda3/envs/jax-gpu/lib/python3.11/asyncio/base_events.py\", line 1936, in _run_once\n  File \"/home/ben.horowitz/miniconda3/envs/jax-gpu/lib/python3.11/asyncio/events.py\", line 84, in _run\n  File \"/home/ben.horowitz/miniconda3/envs/jax-gpu/lib/python3.11/site-packages/ipykernel/kernelbase.py\", line 545, in dispatch_queue\n  File \"/home/ben.horowitz/miniconda3/envs/jax-gpu/lib/python3.11/site-packages/ipykernel/kernelbase.py\", line 534, in process_one\n  File \"/home/ben.horowitz/miniconda3/envs/jax-gpu/lib/python3.11/site-packages/ipykernel/kernelbase.py\", line 437, in dispatch_shell\n  File \"/home/ben.horowitz/miniconda3/envs/jax-gpu/lib/python3.11/site-packages/ipykernel/ipkernel.py\", line 362, in execute_request\n  File \"/home/ben.horowitz/miniconda3/envs/jax-gpu/lib/python3.11/site-packages/ipykernel/kernelbase.py\", line 778, in execute_request\n  File \"/home/ben.horowitz/miniconda3/envs/jax-gpu/lib/python3.11/site-packages/ipykernel/ipkernel.py\", line 449, in do_execute\n  File \"/home/ben.horowitz/miniconda3/envs/jax-gpu/lib/python3.11/site-packages/ipykernel/zmqshell.py\", line 549, in run_cell\n  File \"/home/ben.horowitz/miniconda3/envs/jax-gpu/lib/python3.11/site-packages/IPython/core/interactiveshell.py\", line 3006, in run_cell\n  File \"/home/ben.horowitz/miniconda3/envs/jax-gpu/lib/python3.11/site-packages/IPython/core/interactiveshell.py\", line 3061, in _run_cell\n  File \"/home/ben.horowitz/miniconda3/envs/jax-gpu/lib/python3.11/site-packages/IPython/core/async_helpers.py\", line 129, in _pseudo_sync_runner\n  File \"/home/ben.horowitz/miniconda3/envs/jax-gpu/lib/python3.11/site-packages/IPython/core/interactiveshell.py\", line 3266, in run_cell_async\n  File \"/home/ben.horowitz/miniconda3/envs/jax-gpu/lib/python3.11/site-packages/IPython/core/interactiveshell.py\", line 3445, in run_ast_nodes\n  File \"/home/ben.horowitz/miniconda3/envs/jax-gpu/lib/python3.11/site-packages/IPython/core/interactiveshell.py\", line 3505, in run_code\n  File \"/tmp/ipykernel_40584/3600491937.py\", line 1, in <module>\n  File \"/home/ben.horowitz/miniconda3/envs/jax-gpu/lib/python3.11/site-packages/jax/_src/traceback_util.py\", line 180, in reraise_with_filtered_traceback\n  File \"/home/ben.horowitz/miniconda3/envs/jax-gpu/lib/python3.11/site-packages/jax/_src/api.py\", line 394, in grad_f\n  File \"/home/ben.horowitz/miniconda3/envs/jax-gpu/lib/python3.11/site-packages/jax/_src/traceback_util.py\", line 180, in reraise_with_filtered_traceback\n  File \"/home/ben.horowitz/miniconda3/envs/jax-gpu/lib/python3.11/site-packages/jax/_src/api.py\", line 474, in value_and_grad_f\n  File \"/home/ben.horowitz/miniconda3/envs/jax-gpu/lib/python3.11/site-packages/jax/_src/tree_util.py\", line 476, in __call__\n  File \"/home/ben.horowitz/miniconda3/envs/jax-gpu/lib/python3.11/site-packages/jax/_src/api.py\", line 1899, in _vjp_pullback_wrapper\n  File \"/home/ben.horowitz/miniconda3/envs/jax-gpu/lib/python3.11/site-packages/jax/_src/tree_util.py\", line 476, in __call__\n  File \"/home/ben.horowitz/miniconda3/envs/jax-gpu/lib/python3.11/site-packages/jax/_src/interpreters/ad.py\", line 259, in unbound_vjp\n  File \"/home/ben.horowitz/miniconda3/envs/jax-gpu/lib/python3.11/site-packages/jax/_src/interpreters/ad.py\", line 360, in backward_pass\n  File \"/home/ben.horowitz/miniconda3/envs/jax-gpu/lib/python3.11/site-packages/jax/_src/pjit.py\", line 2378, in _pjit_transpose\n  File \"/home/ben.horowitz/miniconda3/envs/jax-gpu/lib/python3.11/site-packages/jax/_src/core.py\", line 463, in bind\n  File \"/home/ben.horowitz/miniconda3/envs/jax-gpu/lib/python3.11/site-packages/jax/_src/core.py\", line 468, in bind_with_trace\n  File \"/home/ben.horowitz/miniconda3/envs/jax-gpu/lib/python3.11/site-packages/jax/_src/core.py\", line 954, in process_primitive\n  File \"/home/ben.horowitz/miniconda3/envs/jax-gpu/lib/python3.11/site-packages/jax/_src/pjit.py\", line 1762, in _pjit_call_impl\n  File \"/home/ben.horowitz/miniconda3/envs/jax-gpu/lib/python3.11/site-packages/jax/_src/pjit.py\", line 1738, in call_impl_cache_miss\n  File \"/home/ben.horowitz/miniconda3/envs/jax-gpu/lib/python3.11/site-packages/jax/_src/pjit.py\", line 1692, in _pjit_call_impl_python\n  File \"/home/ben.horowitz/miniconda3/envs/jax-gpu/lib/python3.11/site-packages/jax/_src/profiler.py\", line 333, in wrapper\n  File \"/home/ben.horowitz/miniconda3/envs/jax-gpu/lib/python3.11/site-packages/jax/_src/interpreters/pxla.py\", line 1289, in __call__\n  File \"/home/ben.horowitz/miniconda3/envs/jax-gpu/lib/python3.11/site-packages/jax/_src/interpreters/mlir.py\", line 2960, in _wrapped_callback\n  File \"/home/ben.horowitz/miniconda3/envs/jax-gpu/lib/python3.11/site-packages/jax/_src/callback.py\", line 306, in _callback\n  File \"/home/ben.horowitz/miniconda3/envs/jax-gpu/lib/python3.11/site-packages/jax/_src/callback.py\", line 98, in pure_callback_impl\n  File \"/home/ben.horowitz/miniconda3/envs/jax-gpu/lib/python3.11/site-packages/jax/_src/callback.py\", line 72, in __call__\n  File \"/home/ben.horowitz/miniconda3/envs/jax-gpu/lib/python3.11/site-packages/equinox/_errors.py\", line 89, in raises\n_EquinoxRuntimeError: A stagnation in an iterative linear solve has occurred. Try increasing `stagnation_iters` or `restart`.\n\n\n--------------------\nAn error occurred during the runtime of your JAX program! Unfortunately you do not appear to be using `equinox.filter_jit` (perhaps you are using `jax.jit` instead?) and so further information about the error cannot be displayed. (Probably you are seeing a very large but uninformative error message right now.) Please wrap your program with `equinox.filter_jit`.\n--------------------\n\nThe preceding stack trace is the source of the JAX operation that, once transformed by JAX, triggered the following exception.\n\n--------------------",
      "\nThe above exception was the direct cause of the following exception:\n",
      "\u001b[0;31mXlaRuntimeError\u001b[0m                           Traceback (most recent call last)",
      "Cell \u001b[0;32mIn[29], line 1\u001b[0m\n\u001b[0;32m----> 1\u001b[0m \u001b[43mtest_grad\u001b[49m\u001b[43m(\u001b[49m\u001b[43mb\u001b[49m\u001b[43m)\u001b[49m\n",
      "    \u001b[0;31m[... skipping hidden 17 frame]\u001b[0m\n",
      "File \u001b[0;32m~/miniconda3/envs/jax-gpu/lib/python3.11/site-packages/jax/_src/interpreters/pxla.py:1289\u001b[0m, in \u001b[0;36mExecuteReplicated.__call__\u001b[0;34m(self, *args)\u001b[0m\n\u001b[1;32m   1286\u001b[0m \u001b[38;5;28;01mif\u001b[39;00m (\u001b[38;5;28mself\u001b[39m\u001b[38;5;241m.\u001b[39mordered_effects \u001b[38;5;129;01mor\u001b[39;00m \u001b[38;5;28mself\u001b[39m\u001b[38;5;241m.\u001b[39mhas_unordered_effects\n\u001b[1;32m   1287\u001b[0m     \u001b[38;5;129;01mor\u001b[39;00m \u001b[38;5;28mself\u001b[39m\u001b[38;5;241m.\u001b[39mhas_host_callbacks):\n\u001b[1;32m   1288\u001b[0m   input_bufs \u001b[38;5;241m=\u001b[39m \u001b[38;5;28mself\u001b[39m\u001b[38;5;241m.\u001b[39m_add_tokens_to_inputs(input_bufs)\n\u001b[0;32m-> 1289\u001b[0m   results \u001b[38;5;241m=\u001b[39m \u001b[38;5;28;43mself\u001b[39;49m\u001b[38;5;241;43m.\u001b[39;49m\u001b[43mxla_executable\u001b[49m\u001b[38;5;241;43m.\u001b[39;49m\u001b[43mexecute_sharded\u001b[49m\u001b[43m(\u001b[49m\n\u001b[1;32m   1290\u001b[0m \u001b[43m      \u001b[49m\u001b[43minput_bufs\u001b[49m\u001b[43m,\u001b[49m\u001b[43m \u001b[49m\u001b[43mwith_tokens\u001b[49m\u001b[38;5;241;43m=\u001b[39;49m\u001b[38;5;28;43;01mTrue\u001b[39;49;00m\n\u001b[1;32m   1291\u001b[0m \u001b[43m  \u001b[49m\u001b[43m)\u001b[49m\n\u001b[1;32m   1293\u001b[0m   result_token_bufs \u001b[38;5;241m=\u001b[39m results\u001b[38;5;241m.\u001b[39mdisassemble_prefix_into_single_device_arrays(\n\u001b[1;32m   1294\u001b[0m       \u001b[38;5;28mlen\u001b[39m(\u001b[38;5;28mself\u001b[39m\u001b[38;5;241m.\u001b[39mordered_effects))\n\u001b[1;32m   1295\u001b[0m   sharded_runtime_token \u001b[38;5;241m=\u001b[39m results\u001b[38;5;241m.\u001b[39mconsume_token()\n",
      "\u001b[0;31mXlaRuntimeError\u001b[0m: INTERNAL: CustomCall failed: CpuCallback error: Traceback (most recent call last):\n  File \"<frozen runpy>\", line 198, in _run_module_as_main\n  File \"<frozen runpy>\", line 88, in _run_code\n  File \"/home/ben.horowitz/miniconda3/envs/jax-gpu/lib/python3.11/site-packages/ipykernel_launcher.py\", line 18, in <module>\n  File \"/home/ben.horowitz/miniconda3/envs/jax-gpu/lib/python3.11/site-packages/traitlets/config/application.py\", line 1075, in launch_instance\n  File \"/home/ben.horowitz/miniconda3/envs/jax-gpu/lib/python3.11/site-packages/ipykernel/kernelapp.py\", line 739, in start\n  File \"/home/ben.horowitz/miniconda3/envs/jax-gpu/lib/python3.11/site-packages/tornado/platform/asyncio.py\", line 205, in start\n  File \"/home/ben.horowitz/miniconda3/envs/jax-gpu/lib/python3.11/asyncio/base_events.py\", line 608, in run_forever\n  File \"/home/ben.horowitz/miniconda3/envs/jax-gpu/lib/python3.11/asyncio/base_events.py\", line 1936, in _run_once\n  File \"/home/ben.horowitz/miniconda3/envs/jax-gpu/lib/python3.11/asyncio/events.py\", line 84, in _run\n  File \"/home/ben.horowitz/miniconda3/envs/jax-gpu/lib/python3.11/site-packages/ipykernel/kernelbase.py\", line 545, in dispatch_queue\n  File \"/home/ben.horowitz/miniconda3/envs/jax-gpu/lib/python3.11/site-packages/ipykernel/kernelbase.py\", line 534, in process_one\n  File \"/home/ben.horowitz/miniconda3/envs/jax-gpu/lib/python3.11/site-packages/ipykernel/kernelbase.py\", line 437, in dispatch_shell\n  File \"/home/ben.horowitz/miniconda3/envs/jax-gpu/lib/python3.11/site-packages/ipykernel/ipkernel.py\", line 362, in execute_request\n  File \"/home/ben.horowitz/miniconda3/envs/jax-gpu/lib/python3.11/site-packages/ipykernel/kernelbase.py\", line 778, in execute_request\n  File \"/home/ben.horowitz/miniconda3/envs/jax-gpu/lib/python3.11/site-packages/ipykernel/ipkernel.py\", line 449, in do_execute\n  File \"/home/ben.horowitz/miniconda3/envs/jax-gpu/lib/python3.11/site-packages/ipykernel/zmqshell.py\", line 549, in run_cell\n  File \"/home/ben.horowitz/miniconda3/envs/jax-gpu/lib/python3.11/site-packages/IPython/core/interactiveshell.py\", line 3006, in run_cell\n  File \"/home/ben.horowitz/miniconda3/envs/jax-gpu/lib/python3.11/site-packages/IPython/core/interactiveshell.py\", line 3061, in _run_cell\n  File \"/home/ben.horowitz/miniconda3/envs/jax-gpu/lib/python3.11/site-packages/IPython/core/async_helpers.py\", line 129, in _pseudo_sync_runner\n  File \"/home/ben.horowitz/miniconda3/envs/jax-gpu/lib/python3.11/site-packages/IPython/core/interactiveshell.py\", line 3266, in run_cell_async\n  File \"/home/ben.horowitz/miniconda3/envs/jax-gpu/lib/python3.11/site-packages/IPython/core/interactiveshell.py\", line 3445, in run_ast_nodes\n  File \"/home/ben.horowitz/miniconda3/envs/jax-gpu/lib/python3.11/site-packages/IPython/core/interactiveshell.py\", line 3505, in run_code\n  File \"/tmp/ipykernel_40584/3600491937.py\", line 1, in <module>\n  File \"/home/ben.horowitz/miniconda3/envs/jax-gpu/lib/python3.11/site-packages/jax/_src/traceback_util.py\", line 180, in reraise_with_filtered_traceback\n  File \"/home/ben.horowitz/miniconda3/envs/jax-gpu/lib/python3.11/site-packages/jax/_src/api.py\", line 394, in grad_f\n  File \"/home/ben.horowitz/miniconda3/envs/jax-gpu/lib/python3.11/site-packages/jax/_src/traceback_util.py\", line 180, in reraise_with_filtered_traceback\n  File \"/home/ben.horowitz/miniconda3/envs/jax-gpu/lib/python3.11/site-packages/jax/_src/api.py\", line 474, in value_and_grad_f\n  File \"/home/ben.horowitz/miniconda3/envs/jax-gpu/lib/python3.11/site-packages/jax/_src/tree_util.py\", line 476, in __call__\n  File \"/home/ben.horowitz/miniconda3/envs/jax-gpu/lib/python3.11/site-packages/jax/_src/api.py\", line 1899, in _vjp_pullback_wrapper\n  File \"/home/ben.horowitz/miniconda3/envs/jax-gpu/lib/python3.11/site-packages/jax/_src/tree_util.py\", line 476, in __call__\n  File \"/home/ben.horowitz/miniconda3/envs/jax-gpu/lib/python3.11/site-packages/jax/_src/interpreters/ad.py\", line 259, in unbound_vjp\n  File \"/home/ben.horowitz/miniconda3/envs/jax-gpu/lib/python3.11/site-packages/jax/_src/interpreters/ad.py\", line 360, in backward_pass\n  File \"/home/ben.horowitz/miniconda3/envs/jax-gpu/lib/python3.11/site-packages/jax/_src/pjit.py\", line 2378, in _pjit_transpose\n  File \"/home/ben.horowitz/miniconda3/envs/jax-gpu/lib/python3.11/site-packages/jax/_src/core.py\", line 463, in bind\n  File \"/home/ben.horowitz/miniconda3/envs/jax-gpu/lib/python3.11/site-packages/jax/_src/core.py\", line 468, in bind_with_trace\n  File \"/home/ben.horowitz/miniconda3/envs/jax-gpu/lib/python3.11/site-packages/jax/_src/core.py\", line 954, in process_primitive\n  File \"/home/ben.horowitz/miniconda3/envs/jax-gpu/lib/python3.11/site-packages/jax/_src/pjit.py\", line 1762, in _pjit_call_impl\n  File \"/home/ben.horowitz/miniconda3/envs/jax-gpu/lib/python3.11/site-packages/jax/_src/pjit.py\", line 1738, in call_impl_cache_miss\n  File \"/home/ben.horowitz/miniconda3/envs/jax-gpu/lib/python3.11/site-packages/jax/_src/pjit.py\", line 1692, in _pjit_call_impl_python\n  File \"/home/ben.horowitz/miniconda3/envs/jax-gpu/lib/python3.11/site-packages/jax/_src/profiler.py\", line 333, in wrapper\n  File \"/home/ben.horowitz/miniconda3/envs/jax-gpu/lib/python3.11/site-packages/jax/_src/interpreters/pxla.py\", line 1289, in __call__\n  File \"/home/ben.horowitz/miniconda3/envs/jax-gpu/lib/python3.11/site-packages/jax/_src/interpreters/mlir.py\", line 2960, in _wrapped_callback\n  File \"/home/ben.horowitz/miniconda3/envs/jax-gpu/lib/python3.11/site-packages/jax/_src/callback.py\", line 306, in _callback\n  File \"/home/ben.horowitz/miniconda3/envs/jax-gpu/lib/python3.11/site-packages/jax/_src/callback.py\", line 98, in pure_callback_impl\n  File \"/home/ben.horowitz/miniconda3/envs/jax-gpu/lib/python3.11/site-packages/jax/_src/callback.py\", line 72, in __call__\n  File \"/home/ben.horowitz/miniconda3/envs/jax-gpu/lib/python3.11/site-packages/equinox/_errors.py\", line 89, in raises\n_EquinoxRuntimeError: A stagnation in an iterative linear solve has occurred. Try increasing `stagnation_iters` or `restart`.\n\n\n--------------------\nAn error occurred during the runtime of your JAX program! Unfortunately you do not appear to be using `equinox.filter_jit` (perhaps you are using `jax.jit` instead?) and so further information about the error cannot be displayed. (Probably you are seeing a very large but uninformative error message right now.) Please wrap your program with `equinox.filter_jit`.\n--------------------\n"
     ]
    }
   ],
   "source": [
    "test_grad(b)"
   ]
  },
  {
   "cell_type": "code",
   "execution_count": 11,
   "metadata": {},
   "outputs": [],
   "source": [
    "test_grad_fwd = jax.jacfwd(likelihood)"
   ]
  },
  {
   "cell_type": "code",
   "execution_count": 12,
   "metadata": {},
   "outputs": [],
   "source": [
    "gradfwd = test_grad_fwd(b)"
   ]
  },
  {
   "cell_type": "code",
   "execution_count": 13,
   "metadata": {},
   "outputs": [
    {
     "data": {
      "text/plain": [
       "Array([  173.54312,   345.60864,   514.3133 ,   677.91144,   834.40216,\n",
       "         981.5684 ,  1116.9768 ,  1238.0155 ,  1341.9866 ,  1426.2506 ,\n",
       "        1488.4163 ,  1526.5571 ,  1539.4165 ,  1526.5574 ,  1488.4161 ,\n",
       "        1426.2512 ,  1341.9868 ,  1238.0161 ,  1116.9773 ,   981.56903,\n",
       "         834.4021 ,   677.91144,   514.3134 ,   345.6084 ,   173.54329,\n",
       "         345.60873,   688.06665,  1024.0786 ,  1350.1637 ,  1662.2056 ,\n",
       "        1955.882  ,  2226.3447 ,  2468.352  ,  2676.4214 ,  2845.2778 ,\n",
       "        2969.9717 ,  3046.5312 ,  3072.3555 ,  3046.531  ,  2969.972  ,\n",
       "        2845.2798 ,  2676.422  ,  2468.353  ,  2226.3438 ,  1955.8821 ,\n",
       "        1662.2039 ,  1350.164  ,  1024.0789 ,   688.0668 ,   345.60834,\n",
       "         514.31323,  1024.0793 ,  1524.6135 ,  2010.5405 ,  2476.1511 ,\n",
       "        2914.9543 ,  3319.7156 ,  3682.5522 ,  3995.1372 ,  4249.2554 ,\n",
       "        4437.225  ,  4552.785  ,  4591.789  ,  4552.785  ,  4437.2256 ,\n",
       "        4249.256  ,  3995.1357 ,  3682.5532 ,  3319.7183 ,  2914.9546 ,\n",
       "        2476.1519 ,  2010.5408 ,  1524.6128 ,  1024.0793 ,   514.31384,\n",
       "         677.911  ,  1350.165  ,  2010.5411 ,  2652.4653 ,  3268.4844 ,\n",
       "        3850.15   ,  4387.925  ,  4871.2373 ,  5288.8447 ,  5629.2646 ,\n",
       "        5881.7197 ,  6037.2285 ,  6089.7754 ,  6037.2285 ,  5881.7207 ,\n",
       "        5629.2656 ,  5288.8477 ,  4871.2393 ,  4387.9277 ,  3850.1494 ,\n",
       "        3268.4834 ,  2652.4653 ,  2010.5415 ,  1350.1647 ,   677.911  ,\n",
       "         834.40234,  1662.2039 ,  2476.1519 ,  3268.4834 ,  4030.3308 ,\n",
       "        4751.452  ,  5420.219  ,  6023.3926 ,  6546.55   ,  6974.6987 ,\n",
       "        7293.2246 ,  7490.151  ,  7556.837  ,  7490.1475 ,  7293.22   ,\n",
       "        6974.701  ,  6546.546  ,  6023.3916 ,  5420.2207 ,  4751.453  ,\n",
       "        4030.33   ,  3268.4849 ,  2476.151  ,  1662.2052 ,   834.40186,\n",
       "         981.5687 ,  1955.8811 ,  2914.9546 ,  3850.15   ,  4751.452  ,\n",
       "        5607.2656 ,  6403.8994 ,  7125.6377 ,  7754.618  ,  8272.374  ,\n",
       "        8659.801  ,  8900.149  ,  8981.723  ,  8900.152  ,  8659.802  ,\n",
       "        8272.377  ,  7754.6167 ,  7125.6387 ,  6403.902  ,  5607.2656 ,\n",
       "        4751.451  ,  3850.1504 ,  2914.9556 ,  1955.8828 ,   981.569  ,\n",
       "        1116.977  ,  2226.3438 ,  3319.716  ,  4387.925  ,  5420.22   ,\n",
       "        6403.9023 ,  7323.7314 ,  8161.5503 ,  8896.889  ,  9506.427  ,\n",
       "        9965.531  , 10252.35   , 10350.094  , 10252.35   ,  9965.531  ,\n",
       "        9506.424  ,  8896.889  ,  8161.548  ,  7323.733  ,  6403.902  ,\n",
       "        5420.2197 ,  4387.927  ,  3319.716  ,  2226.344  ,  1116.9773 ,\n",
       "        1238.0155 ,  2468.352  ,  3682.5522 ,  4871.2363 ,  6023.3896 ,\n",
       "        7125.6353 ,  8161.549  ,  9111.753  ,  9952.215  , 10655.557  ,\n",
       "       11190.978  , 11528.505  , 11644.246  , 11528.511  , 11190.975  ,\n",
       "       10655.561  ,  9952.209  ,  9111.751  ,  8161.549  ,  7125.6367 ,\n",
       "        6023.3916 ,  4871.237  ,  3682.5532 ,  2468.354  ,  1238.0157 ,\n",
       "        1341.9867 ,  2676.4219 ,  3995.1367 ,  5288.8467 ,  6546.547  ,\n",
       "        7754.6167 ,  8896.889  ,  9952.209  , 10895.006  , 11693.207  ,\n",
       "       12309.663  , 12704.098  , 12840.982  , 12704.097  , 12309.664  ,\n",
       "       11693.197  , 10895.006  ,  9952.208  ,  8896.888  ,  7754.618  ,\n",
       "        6546.552  ,  5288.8467 ,  3995.1365 ,  2676.4219 ,  1341.9865 ,\n",
       "        1426.251  ,  2845.2783 ,  4249.2563 ,  5629.263  ,  6974.6973 ,\n",
       "        8272.375  ,  9506.42   , 10655.55   , 11693.21   , 12584.971  ,\n",
       "       13287.155  , 13747.075  , 13910.656  , 13747.066  , 13287.16   ,\n",
       "       12584.978  , 11693.201  , 10655.555  ,  9506.426  ,  8272.374  ,\n",
       "        6974.701  ,  5629.2617 ,  4249.2563 ,  2845.2793 ,  1426.2511 ,\n",
       "        1488.4166 ,  2969.9731 ,  4437.225  ,  5881.7163 ,  7293.224  ,\n",
       "        8659.803  ,  9965.537  , 11190.976  , 12309.665  , 13287.154  ,\n",
       "       14076.196  , 14612.084  , 14813.055  , 14612.086  , 14076.192  ,\n",
       "       13287.157  , 12309.661  , 11190.979  ,  9965.529  ,  8659.803  ,\n",
       "        7293.2227 ,  5881.718  ,  4437.225  ,  2969.9722 ,  1488.4167 ,\n",
       "        1526.5573 ,  3046.5317 ,  4552.784  ,  6037.2324 ,  7490.1494 ,\n",
       "        8900.15   , 10252.346  , 11528.51   , 12704.09   , 13747.078  ,\n",
       "       14612.084  , 15230.199  , 15489.085  , 15230.203  , 14612.087  ,\n",
       "       13747.064  , 12704.093  , 11528.508  , 10252.35   ,  8900.15   ,\n",
       "        7490.152  ,  6037.227  ,  4552.786  ,  3046.532  ,  1526.5579 ,\n",
       "        1539.4167 ,  3072.3538 ,  4591.79   ,  6089.777  ,  7556.839  ,\n",
       "        8981.721  , 10350.096  , 11644.248  , 12840.986  , 13910.648  ,\n",
       "       14813.055  , 15489.091  , 15827.853  , 15489.088  , 14813.053  ,\n",
       "       13910.647  , 12840.987  , 11644.248  , 10350.098  ,  8981.723  ,\n",
       "        7556.84   ,  6089.777  ,  4591.7896 ,  3072.3567 ,  1539.4167 ,\n",
       "        1526.5574 ,  3046.5317 ,  4552.785  ,  6037.2285 ,  7490.1484 ,\n",
       "        8900.147  , 10252.343  , 11528.51   , 12704.088  , 13747.072  ,\n",
       "       14612.09   , 15230.195  , 15489.085  , 15230.197  , 14612.086  ,\n",
       "       13747.068  , 12704.095  , 11528.51   , 10252.35   ,  8900.147  ,\n",
       "        7490.1484 ,  6037.2295 ,  4552.7856 ,  3046.5317 ,  1526.5576 ,\n",
       "        1488.4165 ,  2969.9731 ,  4437.2266 ,  5881.7163 ,  7293.2217 ,\n",
       "        8659.804  ,  9965.529  , 11190.981  , 12309.664  , 13287.16   ,\n",
       "       14076.195  , 14612.088  , 14813.039  , 14612.081  , 14076.203  ,\n",
       "       13287.148  , 12309.663  , 11190.977  ,  9965.529  ,  8659.803  ,\n",
       "        7293.2256 ,  5881.7188 ,  4437.2256 ,  2969.9722 ,  1488.4167 ,\n",
       "        1426.2505 ,  2845.2783 ,  4249.256  ,  5629.2627 ,  6974.7    ,\n",
       "        8272.377  ,  9506.428  , 10655.554  , 11693.198  , 12584.969  ,\n",
       "       13287.158  , 13747.072  , 13910.651  , 13747.068  , 13287.162  ,\n",
       "       12584.973  , 11693.209  , 10655.555  ,  9506.423  ,  8272.378  ,\n",
       "        6974.6997 ,  5629.2627 ,  4249.256  ,  2845.279  ,  1426.2507 ,\n",
       "        1341.9866 ,  2676.4214 ,  3995.1372 ,  5288.8467 ,  6546.548  ,\n",
       "        7754.6187 ,  8896.889  ,  9952.207  , 10895.002  , 11693.203  ,\n",
       "       12309.668  , 12704.09   , 12840.986  , 12704.094  , 12309.666  ,\n",
       "       11693.199  , 10895.     ,  9952.211  ,  8896.891  ,  7754.619  ,\n",
       "        6546.5464 ,  5288.8467 ,  3995.1353 ,  2676.4224 ,  1341.9865 ,\n",
       "        1238.0159 ,  2468.3533 ,  3682.5532 ,  4871.236  ,  6023.3926 ,\n",
       "        7125.6396 ,  8161.549  ,  9111.754  ,  9952.211  , 10655.559  ,\n",
       "       11190.979  , 11528.506  , 11644.254  , 11528.517  , 11190.979  ,\n",
       "       10655.559  ,  9952.209  ,  9111.755  ,  8161.542  ,  7125.6357 ,\n",
       "        6023.391  ,  4871.2363 ,  3682.5513 ,  2468.3528 ,  1238.0161 ,\n",
       "        1116.9774 ,  2226.3445 ,  3319.7168 ,  4387.926  ,  5420.2227 ,\n",
       "        6403.8994 ,  7323.7314 ,  8161.545  ,  8896.885  ,  9506.427  ,\n",
       "        9965.531  , 10252.346  , 10350.097  , 10252.346  ,  9965.531  ,\n",
       "        9506.423  ,  8896.888  ,  8161.5474 ,  7323.731  ,  6403.8994 ,\n",
       "        5420.2183 ,  4387.926  ,  3319.7178 ,  2226.3428 ,  1116.9775 ,\n",
       "         981.5691 ,  1955.8826 ,  2914.9548 ,  3850.15   ,  4751.4526 ,\n",
       "        5607.2646 ,  6403.9023 ,  7125.6367 ,  7754.616  ,  8272.373  ,\n",
       "        8659.799  ,  8900.148  ,  8981.725  ,  8900.149  ,  8659.801  ,\n",
       "        8272.377  ,  7754.616  ,  7125.635  ,  6403.9014 ,  5607.2646 ,\n",
       "        4751.451  ,  3850.1482 ,  2914.9553 ,  1955.883  ,   981.5689 ,\n",
       "         834.402  ,  1662.2048 ,  2476.1519 ,  3268.4854 ,  4030.3267 ,\n",
       "        4751.4517 ,  5420.222  ,  6023.394  ,  6546.549  ,  6974.6987 ,\n",
       "        7293.22   ,  7490.1494 ,  7556.84   ,  7490.1494 ,  7293.2236 ,\n",
       "        6974.6997 ,  6546.545  ,  6023.3906 ,  5420.2188 ,  4751.453  ,\n",
       "        4030.3276 ,  3268.4832 ,  2476.1516 ,  1662.2051 ,   834.40173,\n",
       "         677.9112 ,  1350.1641 ,  2010.541  ,  2652.4653 ,  3268.4844 ,\n",
       "        3850.151  ,  4387.9263 ,  4871.2354 ,  5288.847  ,  5629.2646 ,\n",
       "        5881.718  ,  6037.23   ,  6089.7754 ,  6037.2285 ,  5881.718  ,\n",
       "        5629.2656 ,  5288.847  ,  4871.237  ,  4387.927  ,  3850.151  ,\n",
       "        3268.484  ,  2652.4653 ,  2010.5394 ,  1350.1635 ,   677.911  ,\n",
       "         514.31366,  1024.0784 ,  1524.6143 ,  2010.54   ,  2476.1504 ,\n",
       "        2914.9536 ,  3319.7175 ,  3682.5513 ,  3995.137  ,  4249.254  ,\n",
       "        4437.2246 ,  4552.784  ,  4591.789  ,  4552.784  ,  4437.2266 ,\n",
       "        4249.255  ,  3995.1375 ,  3682.5522 ,  3319.718  ,  2914.9543 ,\n",
       "        2476.1519 ,  2010.5399 ,  1524.6133 ,  1024.0789 ,   514.3139 ,\n",
       "         345.6086 ,   688.06726,  1024.079  ,  1350.1636 ,  1662.2048 ,\n",
       "        1955.8818 ,  2226.3428 ,  2468.3516 ,  2676.4214 ,  2845.2793 ,\n",
       "        2969.9734 ,  3046.5325 ,  3072.3552 ,  3046.5312 ,  2969.9731 ,\n",
       "        2845.279  ,  2676.4214 ,  2468.353  ,  2226.3433 ,  1955.8824 ,\n",
       "        1662.2051 ,  1350.1643 ,  1024.0789 ,   688.0668 ,   345.60843,\n",
       "         173.54335,   345.6085 ,   514.3137 ,   677.91113,   834.4021 ,\n",
       "         981.5687 ,  1116.977  ,  1238.0154 ,  1341.9863 ,  1426.2509 ,\n",
       "        1488.4163 ,  1526.5574 ,  1539.4167 ,  1526.5576 ,  1488.4166 ,\n",
       "        1426.2507 ,  1341.9862 ,  1238.0164 ,  1116.9772 ,   981.5691 ,\n",
       "         834.402  ,   677.91095,   514.3135 ,   345.6085 ,   173.54327],      dtype=float32)"
      ]
     },
     "execution_count": 13,
     "metadata": {},
     "output_type": "execute_result"
    }
   ],
   "source": [
    "gradfwd #seems to work, but very memory intensive..."
   ]
  },
  {
   "cell_type": "code",
   "execution_count": 14,
   "metadata": {},
   "outputs": [
    {
     "data": {
      "text/plain": [
       "<matplotlib.image.AxesImage at 0x7fd0c3f096d0>"
      ]
     },
     "execution_count": 14,
     "metadata": {},
     "output_type": "execute_result"
    },
    {
     "data": {
      "image/png": "[encoded data removed]",
      "text/plain": [
       "<Figure size 640x480 with 1 Axes>"
      ]
     },
     "metadata": {},
     "output_type": "display_data"
    }
   ],
   "source": [
    "imshow(gradfwd.reshape(m,n))"
   ]
  },
  {
   "cell_type": "code",
   "execution_count": null,
   "metadata": {},
   "outputs": [],
   "source": []
  }
 ],
 "metadata": {
  "kernelspec": {
   "display_name": "jax-gpu",
   "language": "python",
   "name": "jax-gpu"
  },
  "language_info": {
   "codemirror_mode": {
    "name": "ipython",
    "version": 3
   },
   "file_extension": ".py",
   "mimetype": "text/x-python",
   "name": "python",
   "nbconvert_exporter": "python",
   "pygments_lexer": "ipython3",
   "version": "3.11.9"
  }
 },
 "nbformat": 4,
 "nbformat_minor": 4
}
